{
  "cells": [
    {
      "cell_type": "markdown",
      "metadata": {
        "id": "ALn1iyrZa_0i"
      },
      "source": [
        "# Base Language Model with Transformer\n",
        "- Generating Shakespeare style literature\n",
        "- Inspired by Andrej Karpathy (https://www.youtube.com/watch?v=kCc8FmEb1nY)"
      ]
    },
    {
      "cell_type": "code",
      "execution_count": 1,
      "metadata": {
        "colab": {
          "base_uri": "https://localhost:8080/"
        },
        "id": "6Pj8KfdRq9bO",
        "outputId": "65a1b0cd-c503-4a6e-cd96-28a8bb6e7e8e"
      },
      "outputs": [
        {
          "name": "stdout",
          "output_type": "stream",
          "text": [
            "cuda\n"
          ]
        }
      ],
      "source": [
        "import pickle\n",
        "\n",
        "import torch\n",
        "import torch.nn as nn\n",
        "from torch.nn import functional as F\n",
        "import torch.optim as optim\n",
        "from torch.utils.data import DataLoader, TensorDataset\n",
        "import urllib\n",
        "from PIL import Image\n",
        "from torchvision import transforms\n",
        "\n",
        "import numpy as np\n",
        "import matplotlib.pyplot as plt\n",
        "import pandas as pd\n",
        "from tqdm import tqdm\n",
        "\n",
        "device = 'cuda' if torch.cuda.is_available() else 'cpu'\n",
        "print(device)"
      ]
    },
    {
      "cell_type": "code",
      "execution_count": 2,
      "metadata": {
        "colab": {
          "base_uri": "https://localhost:8080/"
        },
        "id": "yZpWx-wdp_nI",
        "outputId": "c7b6aa4f-c469-44fe-b78a-7964bd89ab0d"
      },
      "outputs": [
        {
          "name": "stdout",
          "output_type": "stream",
          "text": [
            "--2024-02-28 01:00:30--  https://raw.githubusercontent.com/karpathy/char-rnn/master/data/tinyshakespeare/input.txt\n",
            "Resolving raw.githubusercontent.com (raw.githubusercontent.com)... 185.199.111.133, 185.199.108.133, 185.199.110.133, ...\n",
            "Connecting to raw.githubusercontent.com (raw.githubusercontent.com)|185.199.111.133|:443... connected.\n",
            "HTTP request sent, awaiting response... 200 OK\n",
            "Length: 1115394 (1.1M) [text/plain]\n",
            "Saving to: ‘input.txt’\n",
            "\n",
            "\rinput.txt             0%[                    ]       0  --.-KB/s               \rinput.txt           100%[===================>]   1.06M  --.-KB/s    in 0.02s   \n",
            "\n",
            "2024-02-28 01:00:30 (54.3 MB/s) - ‘input.txt’ saved [1115394/1115394]\n",
            "\n"
          ]
        }
      ],
      "source": [
        "!wget https://raw.githubusercontent.com/karpathy/char-rnn/master/data/tinyshakespeare/input.txt"
      ]
    },
    {
      "cell_type": "markdown",
      "metadata": {
        "id": "sVGzYV03qxS4"
      },
      "source": [
        "### Read input and create list of unique characters in Shakespeare dataset"
      ]
    },
    {
      "cell_type": "code",
      "execution_count": 3,
      "metadata": {
        "colab": {
          "base_uri": "https://localhost:8080/"
        },
        "id": "vdOo1XNRqAsR",
        "outputId": "61b5aeb3-e90b-4997-9d41-85c7ebfd3c99"
      },
      "outputs": [
        {
          "name": "stdout",
          "output_type": "stream",
          "text": [
            "\n",
            " !$&',-.3:;?ABCDEFGHIJKLMNOPQRSTUVWXYZabcdefghijklmnopqrstuvwxyz\n",
            "65\n"
          ]
        }
      ],
      "source": [
        "with open('input.txt', 'r', encoding='utf-8') as f:\n",
        "    text = f.read()\n",
        "\n",
        "# set doesn't allow duplicated items\n",
        "characters = sorted(list(set(text)))\n",
        "vocab_size = len(characters)\n",
        "print(''.join(characters))\n",
        "print(vocab_size)\n"
      ]
    },
    {
      "cell_type": "markdown",
      "metadata": {
        "id": "bQ2-dHSMq6Pn"
      },
      "source": [
        "### Encoding and Decoding\n",
        "\n",
        "1. encode entire text dataset into Tensor\n",
        "\n",
        "2. split train and test dataset"
      ]
    },
    {
      "cell_type": "code",
      "execution_count": 4,
      "metadata": {
        "colab": {
          "base_uri": "https://localhost:8080/"
        },
        "id": "sGsFEu3hqDgd",
        "outputId": "744ebf64-c1d3-4227-c968-c277b64de82e"
      },
      "outputs": [
        {
          "name": "stdout",
          "output_type": "stream",
          "text": [
            "{'\\n': 0, ' ': 1, '!': 2, '$': 3, '&': 4, \"'\": 5, ',': 6, '-': 7, '.': 8, '3': 9, ':': 10, ';': 11, '?': 12, 'A': 13, 'B': 14, 'C': 15, 'D': 16, 'E': 17, 'F': 18, 'G': 19, 'H': 20, 'I': 21, 'J': 22, 'K': 23, 'L': 24, 'M': 25, 'N': 26, 'O': 27, 'P': 28, 'Q': 29, 'R': 30, 'S': 31, 'T': 32, 'U': 33, 'V': 34, 'W': 35, 'X': 36, 'Y': 37, 'Z': 38, 'a': 39, 'b': 40, 'c': 41, 'd': 42, 'e': 43, 'f': 44, 'g': 45, 'h': 46, 'i': 47, 'j': 48, 'k': 49, 'l': 50, 'm': 51, 'n': 52, 'o': 53, 'p': 54, 'q': 55, 'r': 56, 's': 57, 't': 58, 'u': 59, 'v': 60, 'w': 61, 'x': 62, 'y': 63, 'z': 64}\n",
            "{0: '\\n', 1: ' ', 2: '!', 3: '$', 4: '&', 5: \"'\", 6: ',', 7: '-', 8: '.', 9: '3', 10: ':', 11: ';', 12: '?', 13: 'A', 14: 'B', 15: 'C', 16: 'D', 17: 'E', 18: 'F', 19: 'G', 20: 'H', 21: 'I', 22: 'J', 23: 'K', 24: 'L', 25: 'M', 26: 'N', 27: 'O', 28: 'P', 29: 'Q', 30: 'R', 31: 'S', 32: 'T', 33: 'U', 34: 'V', 35: 'W', 36: 'X', 37: 'Y', 38: 'Z', 39: 'a', 40: 'b', 41: 'c', 42: 'd', 43: 'e', 44: 'f', 45: 'g', 46: 'h', 47: 'i', 48: 'j', 49: 'k', 50: 'l', 51: 'm', 52: 'n', 53: 'o', 54: 'p', 55: 'q', 56: 'r', 57: 's', 58: 't', 59: 'u', 60: 'v', 61: 'w', 62: 'x', 63: 'y', 64: 'z'}\n",
            "First Citizen\n",
            "[18, 47, 56, 57, 58, 1, 15, 47, 58, 47, 64, 43, 52]\n",
            "First Citizen\n",
            "tensor([18, 47, 56, 57, 58,  1, 15, 47, 58, 47, 64, 43, 52])\n",
            "torch.Size([1115394])\n"
          ]
        }
      ],
      "source": [
        "s_to_i = {c:i for i, c in enumerate(characters)}\n",
        "print(s_to_i)\n",
        "i_to_s = {i:c for i, c in enumerate(characters)}\n",
        "print(i_to_s)\n",
        "\n",
        "\n",
        "# Encoding called tokenize\n",
        "encode = lambda s: [s_to_i[c] for c in s]\n",
        "decode = lambda encoded_data: ''.join([i_to_s[i] for i in encoded_data])\n",
        "\n",
        "print(text[:13])\n",
        "print(encode(text[:13]))\n",
        "print(decode(encode(text[:13])))\n",
        "\n",
        "data = torch.tensor(encode(text), dtype=torch.long)\n",
        "print(data[:13])\n",
        "print(data.size())\n",
        "\n",
        "train_data = data[:int(0.9 * len(data))]\n",
        "test_data = data[int(0.9 * len(data)):]\n",
        "\n"
      ]
    },
    {
      "cell_type": "markdown",
      "metadata": {
        "id": "nzQ-y9ydu7gb"
      },
      "source": [
        "### What are the features and target?"
      ]
    },
    {
      "cell_type": "code",
      "execution_count": null,
      "metadata": {
        "colab": {
          "base_uri": "https://localhost:8080/"
        },
        "id": "-rMVtfMAqK5g",
        "outputId": "067ebd7a-dddd-406e-880e-e141ebccd202"
      },
      "outputs": [
        {
          "name": "stdout",
          "output_type": "stream",
          "text": [
            "Context: tensor([18]), Target: 47\n",
            "Context: tensor([18, 47]), Target: 56\n",
            "Context: tensor([18, 47, 56]), Target: 57\n",
            "Context: tensor([18, 47, 56, 57]), Target: 58\n",
            "Context: tensor([18, 47, 56, 57, 58]), Target: 1\n",
            "Context: tensor([18, 47, 56, 57, 58,  1]), Target: 15\n",
            "Context: tensor([18, 47, 56, 57, 58,  1, 15]), Target: 47\n",
            "Context: tensor([18, 47, 56, 57, 58,  1, 15, 47]), Target: 58\n",
            "\n",
            "\n",
            "Context: F Target: i\n",
            "Context: Fi Target: r\n",
            "Context: Fir Target: s\n",
            "Context: Firs Target: t\n",
            "Context: First Target:  \n",
            "Context: First  Target: C\n",
            "Context: First C Target: i\n",
            "Context: First Ci Target: t\n"
          ]
        }
      ],
      "source": [
        "T = 8 # Sequence\n",
        "X = train_data[:T]\n",
        "y = train_data[1:T+1]\n",
        "\n",
        "for t in range(T):\n",
        "  context = X[:t+1]\n",
        "  target = y[t]\n",
        "  print(f\"Context: {context}, Target: {target}\" )\n",
        "\n",
        "\n",
        "\n",
        "print('\\n')\n",
        "# In txt for understanding what's happening\n",
        "txt_X = text[:T]\n",
        "txt_y = text[1:T+1]\n",
        "\n",
        "for t in range(T):\n",
        "  context = txt_X[:t+1]\n",
        "  target = txt_y[t]\n",
        "  print(f\"Context: {context} Target: {target}\" )\n",
        "\n",
        "# Our target value is next following character behind letters"
      ]
    },
    {
      "cell_type": "code",
      "execution_count": 5,
      "metadata": {
        "colab": {
          "base_uri": "https://localhost:8080/"
        },
        "id": "Byoj5OU8vV1Z",
        "outputId": "f7b5f7dd-4d9b-4528-cfb4-bd11f9f0cc76"
      },
      "outputs": [
        {
          "name": "stdout",
          "output_type": "stream",
          "text": [
            "cuda\n",
            "Context: to call , \n",
            " Target: o call K\n",
            "1 batch's context: tensor([58, 53,  1, 41, 39, 50, 50,  1], device='cuda:0')\n",
            "1 batch's target: tensor([53,  1, 41, 39, 50, 50,  1, 23], device='cuda:0') \n",
            "\n",
            "Context: ch she y, \n",
            " Target: h she ye\n",
            "2 batch's context: tensor([41, 46,  1, 57, 46, 43,  1, 63], device='cuda:0')\n",
            "2 batch's target: tensor([46,  1, 57, 46, 43,  1, 63, 43], device='cuda:0') \n",
            "\n",
            "Context: e of hea, \n",
            " Target:  of heav\n",
            "3 batch's context: tensor([43,  1, 53, 44,  1, 46, 43, 39], device='cuda:0')\n",
            "3 batch's target: tensor([ 1, 53, 44,  1, 46, 43, 39, 60], device='cuda:0') \n",
            "\n",
            "Context: d here a, \n",
            " Target:  here al\n",
            "4 batch's context: tensor([42,  1, 46, 43, 56, 43,  1, 39], device='cuda:0')\n",
            "4 batch's target: tensor([ 1, 46, 43, 56, 43,  1, 39, 50], device='cuda:0') \n",
            "\n"
          ]
        }
      ],
      "source": [
        "B = 4 # Batch Size\n",
        "T = 8 # Sequence\n",
        "\n",
        "device = 'cuda' if torch.cuda.is_available() else 'cpu'\n",
        "print(device)\n",
        "\n",
        "def batch_loader(data, sequence_size = 8, batch_size = 4):\n",
        "  # ix for shuffling\n",
        "  ix = torch.randint(len(data) - sequence_size, (batch_size,))\n",
        "\n",
        "  X = torch.stack([data[i:i+sequence_size] for i in ix])\n",
        "  y = torch.stack([data[i+1:i+sequence_size+1] for i in ix])\n",
        "  X = X.to(device)\n",
        "  y = y.to(device)\n",
        "  return X,y\n",
        "\n",
        "xb, yb = batch_loader(train_data)\n",
        "\n",
        "for b in range(B):\n",
        "  print(f\"Context: {decode(xb[b].tolist())}, \\n Target: {decode(yb[b].tolist())}\")\n",
        "  print(f\"{b+1} batch\\'s context: {xb[b]}\")\n",
        "  print(f\"{b+1} batch\\'s target: {yb[b]} \\n\")\n",
        "\n"
      ]
    },
    {
      "cell_type": "markdown",
      "metadata": {
        "id": "g_JXUUTI3-P8"
      },
      "source": [
        "## Simple Language model"
      ]
    },
    {
      "cell_type": "code",
      "execution_count": null,
      "metadata": {
        "id": "P6LLyqsv2_q1"
      },
      "outputs": [],
      "source": [
        "class BigramLanguageModel(nn.Module):\n",
        "\n",
        "  def __init__(self, emb_dim):\n",
        "    super().__init__()\n",
        "    self.embedding = nn.Embedding(emb_dim, emb_dim)\n",
        "\n",
        "  def forward(self, idx, targets=None):\n",
        "    logits = self.embedding(idx)\n",
        "\n",
        "    if targets is None:\n",
        "      loss = None\n",
        "    else:\n",
        "      # B: Batch size\n",
        "      # T: Block size\n",
        "      # C: Channel = embedding dimension\n",
        "      B,T,C = logits.shape\n",
        "      logits = logits.view(B*T, C) # B,T,C -> B*T,C ex) size([4,8,65]) -> size([32, 65])\n",
        "      targets = targets.view(B*T) # B,T -> B*T ex) size([4,8]) -> size([32])\n",
        "      loss = F.cross_entropy(logits, targets) # cross_entropy(size([32,65], size([32])))\n",
        "    return logits, loss\n"
      ]
    },
    {
      "cell_type": "markdown",
      "metadata": {
        "id": "KOb0mIbYaIaM"
      },
      "source": [
        "## Train & Generate"
      ]
    },
    {
      "cell_type": "code",
      "execution_count": null,
      "metadata": {
        "colab": {
          "base_uri": "https://localhost:8080/",
          "height": 1000
        },
        "id": "jg71iXSVCWfq",
        "outputId": "f3fa9e37-42f3-4117-e413-4ce7c424bc47"
      },
      "outputs": [
        {
          "name": "stdout",
          "output_type": "stream",
          "text": [
            "65 65\n",
            "Epoch 0 loss: 4.689783096313477\n",
            "Epoch 1000 loss: 4.320011138916016\n",
            "Epoch 2000 loss: 4.027246952056885\n",
            "Epoch 3000 loss: 3.6471943855285645\n",
            "Epoch 4000 loss: 3.4793152809143066\n",
            "Epoch 5000 loss: 3.282135248184204\n",
            "Epoch 6000 loss: 3.086597204208374\n",
            "Epoch 7000 loss: 2.9580202102661133\n",
            "Epoch 8000 loss: 2.8900070190429688\n",
            "Epoch 9000 loss: 2.7684133052825928\n"
          ]
        },
        {
          "data": {
            "image/png": "[encoded data removed]",
            "text/plain": [
              "<Figure size 640x480 with 1 Axes>"
            ]
          },
          "metadata": {},
          "output_type": "display_data"
        },
        {
          "name": "stdout",
          "output_type": "stream",
          "text": [
            "Accuracy: 23.0078125%\n",
            "\n",
            "\n",
            "oth suffe.\n",
            "T:$:Ad&x\n",
            "BR:Pusrer yonxethwans, cAO:\n",
            "S:\n",
            "ASav&Syoanignmmo COM,? gimZAroth rimelJ therrthl h.lMhe:ad s feER?\n",
            "\n",
            "\n",
            "KPhf s,RTh ho at$;ZAExJpay le headG;y;\n",
            "TEYe l\n",
            "FDZUK:\n",
            "The mas?,ulol e pJbyo thornUSC$lsz,\n",
            "IAMPor.\n",
            "BWolJlga$$k,Ulo witul.\n",
            "WeJwh;;$zHPrad\n",
            "An, lBU,\n",
            "c pay;s:\n",
            "BWkRM v. toforsungToDUEd;dTukisealorve s,u:\n",
            ": P ve;P33ThKO:nves I:' f y GE timeclypis:\n",
            "APOLETOchKIUzxesto adohthaL ofoNUveadu SavintardQUSHat .\n",
            "ojX\n",
            "FOxPENGrrgoof s.\n",
            "LINThackche ting hiDOke,xThD VOZ$mealisudsth tcasom pllstBanoong$!th t th;\n",
            "ThinowhlithinM;\n",
            "Wse$;\n",
            "-Banothomwise pi. avenQet f cawoo tk an f nldigdHisQM:\n",
            "\n",
            "IConobUrcrvy?o vojzueris&s,AR&kRDXRIF&xto thivea tithorit$TE: t, y.\n",
            "KYches y!:K.\n",
            "OHN'?:th veathDUCKI' hlsBHo,\n",
            "F nod gXAN.\n",
            "Mon Mu cNNCof omJ.\n",
            " TEDid p'sayovpthdo ch,u!BRuce ttF-o,Wist$;ft!PrePRD tew!\n",
            "CorfthamNCONOThennF'?\n",
            "Towororou pewefopyestKIminoforVzMFFCfxirienourk!\n",
            "ALZ\n",
            "JJ-MEgoofaXZA&jpardean AThonKIvicSAe h tF ffl,jll IOu,\n",
            "verd,eathabapathy,\n",
            "GHaLI farWmunowlimlQxy\n",
            "\n",
            "IULErnss h r!\n",
            "FreER:\n",
            "BUCaviQWWzQaANELFoRocasG\n"
          ]
        }
      ],
      "source": [
        "emb_dim = vocab_size\n",
        "print(vocab_size, emb_dim)\n",
        "\n",
        "\n",
        "# Hyperparameters\n",
        "batch_size = 32\n",
        "block_size = 16\n",
        "n_epochs = 10000\n",
        "\n",
        "\n",
        "# intialize Model, optimizer\n",
        "model = BigramLanguageModel(vocab_size)\n",
        "optim = torch.optim.AdamW(model.parameters(), lr=3e-4)\n",
        "losses = []\n",
        "\n",
        "for _ in range(n_epochs):\n",
        "  X,y = batch_loader(train_data, block_size, batch_size)\n",
        "  logits, loss = model(X,y)\n",
        "\n",
        "  optim.zero_grad()\n",
        "  loss.backward()\n",
        "  optim.step()\n",
        "  losses.append(loss.item())\n",
        "\n",
        "  if _ % n_epochs % 1000 == 0:\n",
        "    print(f\"Epoch {_} loss: {loss.item()}\")\n",
        "\n",
        "plt.plot(range(n_epochs), losses, color='red')\n",
        "plt.xlabel('epochs')\n",
        "plt.ylabel('Losses')\n",
        "plt.show()\n",
        "\n",
        "\n",
        "# logits = F.softmax(logits, dim=-1)\n",
        "# #check\n",
        "# print(logits[0,:].sum())\n",
        "\n",
        "correct = 0\n",
        "total = 0\n",
        "with torch.no_grad():\n",
        "  for _ in range(10):\n",
        "    X, y = batch_loader(test_data, T, batch_size)\n",
        "    logits, loss = model(X,y)\n",
        "    y = y.view(batch_size * T)\n",
        "    pred = F.softmax(logits, dim=-1) # by each column\n",
        "    pred = torch.max(logits,dim=-1).indices # by each column\n",
        "    correct += (pred == y).sum().item()\n",
        "    total += y.size(0)\n",
        "  print(f'Accuracy: {100 * correct / total}%')\n",
        "\n",
        "print('\\n')\n",
        "L = 1000\n",
        "#idx = torch.zeros((1,1), dtype=torch.long)\n",
        "idx = X[0]\n",
        "idx = torch.unsqueeze(idx, 0)\n",
        "for _ in range(L):\n",
        "  logits, loss = model(idx)\n",
        "  logits = logits[:, -1, :] # last character in sequence\n",
        "  probs = F.softmax(logits, dim=-1)\n",
        "  idx_next = torch.multinomial(probs, num_samples=1)\n",
        "  idx = torch.cat((idx, idx_next), dim = 1)\n",
        "\n",
        "print(decode(idx[0].tolist()))"
      ]
    },
    {
      "cell_type": "markdown",
      "metadata": {
        "id": "w_Y-W_GLq7pd"
      },
      "source": [
        "### Weight aggregation\n",
        "\n"
      ]
    },
    {
      "cell_type": "code",
      "execution_count": null,
      "metadata": {
        "colab": {
          "base_uri": "https://localhost:8080/"
        },
        "id": "x8PvvODjq-RV",
        "outputId": "d8bb40ce-b8cb-4167-fe83-222bfbf9ddf5"
      },
      "outputs": [
        {
          "name": "stdout",
          "output_type": "stream",
          "text": [
            "tensor([[1.0000, 0.0000, 0.0000],\n",
            "        [0.5000, 0.5000, 0.0000],\n",
            "        [0.3333, 0.3333, 0.3333]])\n",
            "tensor([[4., 3.],\n",
            "        [3., 7.],\n",
            "        [8., 3.]])\n",
            "tensor([[4.0000, 3.0000],\n",
            "        [3.5000, 5.0000],\n",
            "        [5.0000, 4.3333]])\n",
            "True\n",
            "True\n"
          ]
        }
      ],
      "source": [
        "# Example of Weighted aggregation for information transferring\n",
        "a = torch.tril(torch.ones(3,3))\n",
        "a = a / torch.sum(a, 1, keepdim=True)\n",
        "print(a)\n",
        "b = torch.randint(0, 10, (3,2)).float()\n",
        "print(b)\n",
        "c = a @ b\n",
        "print(c)\n",
        "\n",
        "B,T,C = 4,5,2 # Batch, Sequence(Time), and Channel (vocab size)\n",
        "X = torch.randn(B,T,C)\n",
        "# We want x[b,t] = average of current + prev\n",
        "# Now each words are having connection\n",
        "x_1 = torch.zeros((B,T,C))\n",
        "for b in range(B):\n",
        "  for t in range(T):\n",
        "    xprev = X[b, : t+1, :]\n",
        "    x_1[b,t] = torch.mean(xprev, 0)\n",
        "\n",
        "# There's more efficient way for weight aggregation: Matrix multiplication\n",
        "W = torch.tril(torch.ones(T,T))\n",
        "W = W / W.sum(1, keepdim = True)\n",
        "x_2 = W @ X\n",
        "print(torch.allclose(x_1, x_2))\n",
        "\n",
        "# using Softmax is more efficient\n",
        "tril = torch.tril(torch.ones(T,T))\n",
        "W = torch.tril(torch.ones(T,T))\n",
        "W = W.masked_fill(tril == 0, float('-inf'))\n",
        "W = F.softmax(W, dim=-1)\n",
        "x_3 = W @ X\n",
        "print(torch.allclose(x_1, x_3))"
      ]
    },
    {
      "cell_type": "markdown",
      "metadata": {
        "id": "caXGNUFeo5Io"
      },
      "source": [
        "### Simple LLM with token Embedding + position Embedding + Linear\n",
        "\n",
        "- Token Embedding: for embedded characters\n",
        "- Position Embedding: embedded position of character\n",
        "- Linear: embedded space to vocab space"
      ]
    },
    {
      "cell_type": "code",
      "execution_count": null,
      "metadata": {
        "id": "qN3sWRtFoQ1B"
      },
      "outputs": [],
      "source": [
        "\n",
        "class demoLanguageModel(nn.Module):\n",
        "\n",
        "  def __init__(self, emb_dim):\n",
        "    super().__init__()\n",
        "    self.token_embedding = nn.Embedding(vocab_size, emb_dim)\n",
        "    self.pos_embedding = nn.Embedding(block_size, emb_dim)\n",
        "    self.head = nn.Linear(emb_dim, vocab_size)\n",
        "\n",
        "  def forward(self, idx, targets=None):\n",
        "    B,T = idx.shape\n",
        "\n",
        "    tokens = self.token_embedding(idx) # torch.size([batch_size, block_size, emb_dim])\n",
        "    pos = self.pos_embedding(torch.arange(T)) #torch.size([block_size, emb_dim])\n",
        "\n",
        "    x = tokens + pos # torch.size([batch_size, block_size, emb_dim])\n",
        "    logits = self.head(x) # torch.size([batch_size, block_size, vocab_size])\n",
        "\n",
        "    if targets is None:\n",
        "      loss = None\n",
        "    else:\n",
        "      # B: Batch size\n",
        "      # T: Block size\n",
        "      # C: vocab_size\n",
        "      B,T,C = logits.shape\n",
        "      logits = logits.view(B*T, C) # B,T,C -> B*T,C ex) size([4,8,65]) -> size([32, 65])\n",
        "      targets = targets.view(B*T) # B,T -> B*T ex) size([4,8]) -> size([32])\n",
        "      loss = F.cross_entropy(logits, targets) # cross_entropy(size([32,65], size([32])))\n",
        "    return logits, loss\n"
      ]
    },
    {
      "cell_type": "markdown",
      "metadata": {
        "id": "mlc_qdynaFZQ"
      },
      "source": [
        "## Train & Generate"
      ]
    },
    {
      "cell_type": "code",
      "execution_count": null,
      "metadata": {
        "colab": {
          "base_uri": "https://localhost:8080/",
          "height": 1000
        },
        "id": "r0QvZZJRqsXZ",
        "outputId": "cf0c0652-e2b5-4400-b1fd-34e2c526c5e4"
      },
      "outputs": [
        {
          "name": "stdout",
          "output_type": "stream",
          "text": [
            "Epoch 0 loss: 4.408376693725586\n",
            "Epoch 1000 loss: 2.7924368381500244\n",
            "Epoch 2000 loss: 2.690809726715088\n",
            "Epoch 3000 loss: 2.482050895690918\n",
            "Epoch 4000 loss: 2.5707287788391113\n"
          ]
        },
        {
          "data": {
            "image/png": "[encoded data removed]",
            "text/plain": [
              "<Figure size 640x480 with 1 Axes>"
            ]
          },
          "metadata": {},
          "output_type": "display_data"
        },
        {
          "name": "stdout",
          "output_type": "stream",
          "text": [
            "Accuracy: 25.9375%\n",
            "\n",
            "\n",
            "reford ke bo ke ourad hale abarstpanllle\n",
            "Bad h ht send t? f Wouke peeon,\n",
            "SSayO:\n",
            "I yutothe h r pe mfour, yu, adimear've hayou? thil mars waind MUCidily\n",
            "COMareak!\n",
            "\n",
            "\n",
            "Mye?DNI a, be ike ty.\n",
            "CUKELARI anelemin glow whoerithe idjt whe t fs athihemel.\n",
            "Houre k is us thatitha's hilldasm.\n",
            "\n",
            "OND:\n",
            "Sin at omevond mecay S:\n",
            "Pu hemanto mitocen this anor ESe pulore my l t athe renlys ERDalat BLKHininafavelo s\n",
            "Ant nd Is,r Cowancabe ncoury fofond; mous brt n necared piry her m mbe,ll loliutowhy m l matn, me athesis!\n",
            "\n",
            "\n",
            "Fent aw.\n",
            "\n",
            "Martlreande CD'be!\n",
            "Sy,\n",
            "LUSIoll beloronove perco ee, d merourersulor sarsh Cthandrmeabe?our be Whinced.\n",
            "\n",
            " verel heanomeng I n, themerd, cor fuvar y wis o nok CESUSEn,\n",
            "Hy,\n",
            "\n",
            "GourJIonfy tid merurt Jingaetusony he,\n",
            "AS:\n",
            "Asther t w themet w,\n",
            "Ashe.\n",
            "Wte m o t y!\n",
            "Wisio PE:\n",
            "He Mescurrcufs ucy m:\n",
            "APronetidul hellof yomeme veratou hanst le mlle Yo LENG\n",
            "DENereleabuthe be, f t.\n",
            "P\n",
            "\n",
            "YOyothetistoisp,\n",
            "Dbioo\n",
            "Ofar? cheweer iknen giothot yilat istho one h'lonorouf talo, ik r atenetheerewthowed ky chy bhanayeen\n"
          ]
        }
      ],
      "source": [
        "# Hyperparameters\n",
        "batch_size = 32\n",
        "block_size = 16\n",
        "n_epochs = 5000\n",
        "emb_dim = 32 # suggestion from github\n",
        "\n",
        "# intialize Model, optimizer\n",
        "model = demoLanguageModel(emb_dim)\n",
        "optim = torch.optim.AdamW(model.parameters(), lr=3e-4)\n",
        "losses = []\n",
        "\n",
        "for _ in range(n_epochs):\n",
        "  X,y = batch_loader(train_data, block_size, batch_size)\n",
        "  logits, loss = model(X,y)\n",
        "\n",
        "  optim.zero_grad()\n",
        "  loss.backward()\n",
        "  optim.step()\n",
        "  losses.append(loss.item())\n",
        "\n",
        "  if _ % n_epochs % 1000 == 0:\n",
        "    print(f\"Epoch {_} loss: {loss.item()}\")\n",
        "\n",
        "plt.plot(range(n_epochs), losses, color='red')\n",
        "plt.xlabel('epochs')\n",
        "plt.ylabel('Losses')\n",
        "plt.show()\n",
        "\n",
        "\n",
        "# logits = F.softmax(logits, dim=-1)\n",
        "# #check\n",
        "# print(logits[0,:].sum())\n",
        "\n",
        "correct = 0\n",
        "total = 0\n",
        "with torch.no_grad():\n",
        "  for _ in range(10):\n",
        "    X, y = batch_loader(test_data, T, batch_size)\n",
        "    logits, loss = model(X,y)\n",
        "    y = y.view(batch_size * T)\n",
        "    pred = F.softmax(logits, dim=-1) # by each column\n",
        "    pred = torch.max(logits,dim=-1).indices # by each column\n",
        "    correct += (pred == y).sum().item()\n",
        "    total += y.size(0)\n",
        "  print(f'Accuracy: {100 * correct / total}%')\n",
        "\n",
        "print('\\n')\n",
        "# Generating\n",
        "L = 1000\n",
        "idx = X[0]\n",
        "idx = torch.unsqueeze(idx, 0)\n",
        "\n",
        "for _ in range(L):\n",
        "  idx_cond = idx[:, -block_size:]\n",
        "  logits, loss = model(idx_cond)\n",
        "  logits = logits[:, -1, :] # last character in sequence\n",
        "  probs = F.softmax(logits, dim=-1)\n",
        "  idx_next = torch.multinomial(probs, num_samples=1)\n",
        "  idx = torch.cat((idx, idx_next), dim = 1)\n",
        "\n",
        "print(decode(idx[0].tolist()))"
      ]
    },
    {
      "cell_type": "markdown",
      "metadata": {
        "id": "zwoQPUJz4wvQ"
      },
      "source": [
        "### Self Attention"
      ]
    },
    {
      "cell_type": "code",
      "execution_count": null,
      "metadata": {
        "colab": {
          "base_uri": "https://localhost:8080/"
        },
        "id": "cA2rcOg0rEYn",
        "outputId": "5387891e-429e-4175-9434-6000f8e48c78"
      },
      "outputs": [
        {
          "name": "stdout",
          "output_type": "stream",
          "text": [
            "Batch: 32, Block: 16, Embedding size: 32\n"
          ]
        },
        {
          "data": {
            "text/plain": [
              "torch.Size([32, 16, 20])"
            ]
          },
          "execution_count": 23,
          "metadata": {},
          "output_type": "execute_result"
        }
      ],
      "source": [
        "B,T,C = batch_size, block_size, emb_dim\n",
        "# Embedding size: embed each character into its embedding size (1 -> 65)\n",
        "print(f\"Batch: {B}, Block: {T}, Embedding size: {C}\")\n",
        "X = torch.randn(B,T,C)\n",
        "\n",
        "# Single head\n",
        "H_size = 20\n",
        "key = nn.Linear(C, H_size, bias=False)\n",
        "query = nn.Linear(C, H_size, bias=False)\n",
        "value = nn.Linear(C, H_size, bias=False)\n",
        "K = key(X)\n",
        "Q = query(X)\n",
        "W = Q @ K.transpose(-2, -1) # (B, T, H) @ (B, H, T) = (B, T, T)\n",
        "\n",
        "tril = torch.tril(torch.ones(T,T))\n",
        "W = W.masked_fill(tril == 0, float('-inf'))\n",
        "W = F.softmax(W, dim=-1)\n",
        "V = value(X)\n",
        "\n",
        "res = W @ V\n",
        "res.shape\n"
      ]
    },
    {
      "cell_type": "markdown",
      "metadata": {
        "id": "goT55IpL_ATC"
      },
      "source": [
        "### Head class"
      ]
    },
    {
      "cell_type": "code",
      "execution_count": 6,
      "metadata": {
        "id": "EeGxBvb40bs2"
      },
      "outputs": [],
      "source": [
        "class Head(nn.Module):\n",
        "\n",
        "  def __init__(self, emb_dim, H_size, dropout = 0.2):\n",
        "    super().__init__()\n",
        "    self.key = nn.Linear(emb_dim, H_size, bias=False)\n",
        "    self.query = nn.Linear(emb_dim, H_size, bias=False)\n",
        "    self.value = nn.Linear(emb_dim, H_size, bias=False)\n",
        "    self.register_buffer('tril', torch.tril(torch.ones(block_size, block_size)))\n",
        "    self.dropout = nn.Dropout(dropout)\n",
        "\n",
        "\n",
        "  def forward(self, X):\n",
        "    B,T,C = X.shape\n",
        "    # B: Batch size\n",
        "    # T: Block size\n",
        "    # C: Embedding size\n",
        "    K = self.key(X) # Size: B,T,H_size\n",
        "    Q = self.query(X) # Size: B,T,H_Size\n",
        "\n",
        "    # Compute attention\n",
        "    W = Q @ K.transpose(-2, -1) # Size: B,T,T\n",
        "    # Scaled Dot-Product Attention: Control the variance (prevent softmax to be sharpen)\n",
        "    W = W * C**-0.5\n",
        "    W = W.masked_fill(self.tril[:T, :T] == 0, float('-inf'))\n",
        "    W = F.softmax(W, dim=-1)\n",
        "    W = self.dropout(W) # Dropout randomly shuts off some subset of neurons\n",
        "\n",
        "    V = self.value(X) # Size: B,T,H_Size\n",
        "    out = W @ V #Size: B,T,H_Size\n",
        "    return out\n",
        "\n",
        "\n",
        "\n"
      ]
    },
    {
      "cell_type": "markdown",
      "metadata": {
        "id": "KycSKJkkWZ6S"
      },
      "source": [
        "### Language model with one head"
      ]
    },
    {
      "cell_type": "code",
      "execution_count": 10,
      "metadata": {
        "id": "v0tYHTF7WZh2"
      },
      "outputs": [],
      "source": [
        "\n",
        "class head_LanguageModel(nn.Module):\n",
        "\n",
        "  def __init__(self, emb_dim):\n",
        "    super().__init__()\n",
        "    self.token_embedding = nn.Embedding(vocab_size, emb_dim)\n",
        "    self.pos_embedding = nn.Embedding(block_size, emb_dim)\n",
        "    self.attention_head = Head(H_size = emb_dim, emb_dim = emb_dim)\n",
        "    self.linear_head = nn.Linear(emb_dim, vocab_size)\n",
        "\n",
        "  def forward(self, idx, targets=None):\n",
        "    B,T = idx.shape\n",
        "\n",
        "    tokens = self.token_embedding(idx) # torch.size([batch_size, block_size, emb_dim])\n",
        "    pos = self.pos_embedding(torch.arange(T, device=device)) #torch.size([block_size, emb_dim])\n",
        "\n",
        "    x = tokens + pos # torch.size([batch_size, block_size, emb_dim])\n",
        "    x = self.attention_head(x) # torch.size([batch_size, block_size, H_size])\n",
        "    logits = self.linear_head(x) # torch.size([batch_size, block_Size, vocab_size])\n",
        "\n",
        "    if targets is None:\n",
        "      loss = None\n",
        "    else:\n",
        "      # B: Batch size\n",
        "      # T: Block size\n",
        "      # C: vocab_size\n",
        "      B,T,C = logits.shape\n",
        "      logits = logits.view(B*T, C) # B,T,C -> B*T,C ex) size([4,8,65]) -> size([32, 65])\n",
        "      targets = targets.view(B*T) # B,T -> B*T ex) size([4,8]) -> size([32])\n",
        "      loss = F.cross_entropy(logits, targets) # cross_entropy(size([32,65], size([32])))\n",
        "    return logits, loss\n"
      ]
    },
    {
      "cell_type": "markdown",
      "metadata": {
        "id": "l8YaHkvmZukY"
      },
      "source": [
        "## Train & Generate"
      ]
    },
    {
      "cell_type": "code",
      "execution_count": 11,
      "metadata": {
        "colab": {
          "base_uri": "https://localhost:8080/",
          "height": 1000
        },
        "id": "83M1ZpkrZtrq",
        "outputId": "470358de-a0d7-485d-be72-b7e393bb09ce"
      },
      "outputs": [
        {
          "name": "stdout",
          "output_type": "stream",
          "text": [
            "Epoch 0 loss: 4.145055294036865\n",
            "Epoch 1000 loss: 2.9231467247009277\n",
            "Epoch 2000 loss: 2.901885986328125\n",
            "Epoch 3000 loss: 2.766648292541504\n",
            "Epoch 4000 loss: 2.6637990474700928\n"
          ]
        },
        {
          "data": {
            "image/png": "[encoded data removed]",
            "text/plain": [
              "<Figure size 640x480 with 1 Axes>"
            ]
          },
          "metadata": {},
          "output_type": "display_data"
        },
        {
          "name": "stdout",
          "output_type": "stream",
          "text": [
            "Accuracy: 25.5078125%\n",
            "\n",
            "\n",
            "Lucentio;\n",
            "is\n",
            "Uc buvkrt sihuieyemepin ouk sr te Gary as?\n",
            "OCnblovo r I s GR:\n",
            "RDUYI wiLUCKUSSEDr: ouufed me aven silde Sdmohe ny\n",
            "Wer he LERBOHBy fsrof.\n",
            "head faw.-\n",
            "Wyo nos ndf balee Wlod y, ald mevantiter bls ok te.\n",
            "\n",
            "Sm, ndu Je-y W!Hhsot an hepvaveogihyofe\n",
            "A me\n",
            "OI pnesd; tt ertey w;\n",
            "onecve?\n",
            "K hu df whithaf! aperre higim ste,,\n",
            "Ier.\n",
            "IA:Rnm\n",
            "\n",
            "Ch'NCy:\n",
            "ALOLUIE SAHTENECCbmt: hacen, ar gand bin\n",
            "Hbot.\n",
            "\n",
            "Iuslu,\n",
            "zluc \n",
            "S il ler.'\n",
            "Wheen,apsr, Sess w h?\n",
            "\n",
            "Barirc'youn risrofole a o tyrimy?\n",
            "W, ing we;wem Aneand, te: mut ver-h the laarey rt: fipefo f tlocer;?\n",
            "\n",
            "- e ursot d: fh icoungenerq\n",
            "\n",
            "ru ce hPlilldaen!QAnw than,\n",
            "!\n",
            "Bas I\n",
            "AY vabyh:\n",
            "Bw o wdhouly he o tsles,\n",
            "LUCSow fe kame alye ben krin.\n",
            "\n",
            "Tufeal ert, w by band-benoyar, ia, ke kay hd.\n",
            "\n",
            "NUTEBl wiopona uun, y, spesoniwh aricde!\n",
            "\n",
            "PL osuk\n",
            "\n",
            "OC\n",
            "ODharinndurkee ng.\n",
            "un ctheanor K\n",
            "Sirm h a hclada?\n",
            "\n",
            "und Wowius gearrourousy, c, r rd Iqwo I fo ths\n",
            "Mithrir noueur vyer, he it oun.\n",
            "\n",
            "D,\n",
            "Sfcy at, wh w. IY utr-Qhafuf Yuldace fresy ber s; e.\n",
            "\n",
            "S:H: tue tliylf ll me mltud, wein, t t,achal\n"
          ]
        }
      ],
      "source": [
        "# Hyperparameters\n",
        "batch_size = 32\n",
        "block_size = 16\n",
        "n_epochs = 5000\n",
        "emb_dim = 32 # suggestion from github\n",
        "device = 'cuda' if torch.cuda.is_available() else 'cpu'\n",
        "\n",
        "# intialize Model, optimizer\n",
        "model = head_LanguageModel(emb_dim).to(device)\n",
        "optim = torch.optim.AdamW(model.parameters(), lr=3e-4)\n",
        "losses = []\n",
        "\n",
        "for _ in range(n_epochs):\n",
        "  X,y = batch_loader(train_data, block_size, batch_size)\n",
        "  X = X.to(device)\n",
        "  y = y.to(device)\n",
        "  logits, loss = model(X,y)\n",
        "\n",
        "  optim.zero_grad()\n",
        "  loss.backward()\n",
        "  optim.step()\n",
        "  losses.append(loss.item())\n",
        "\n",
        "  if _ % n_epochs % 1000 == 0:\n",
        "    print(f\"Epoch {_} loss: {loss.item()}\")\n",
        "\n",
        "plt.plot(range(n_epochs), losses, color='red')\n",
        "plt.xlabel('epochs')\n",
        "plt.ylabel('Losses')\n",
        "plt.show()\n",
        "\n",
        "\n",
        "correct = 0\n",
        "total = 0\n",
        "with torch.no_grad():\n",
        "  for _ in range(10):\n",
        "    X, y = batch_loader(test_data, T, batch_size)\n",
        "    logits, loss = model(X,y)\n",
        "    y = y.view(batch_size * T)\n",
        "    pred = F.softmax(logits, dim=-1) # by each column\n",
        "    pred = torch.max(logits,dim=-1).indices # by each column\n",
        "    correct += (pred == y).sum().item()\n",
        "    total += y.size(0)\n",
        "  print(f'Accuracy: {100 * correct / total}%')\n",
        "\n",
        "print('\\n')\n",
        "# Generating\n",
        "L = 1000\n",
        "idx = X[0]\n",
        "idx = torch.unsqueeze(idx, 0)\n",
        "\n",
        "for _ in range(L):\n",
        "  idx_cond = idx[:, -block_size:]\n",
        "  logits, loss = model(idx_cond)\n",
        "  logits = logits[:, -1, :] # last character in sequence\n",
        "  probs = F.softmax(logits, dim=-1)\n",
        "  idx_next = torch.multinomial(probs, num_samples=1)\n",
        "  idx = torch.cat((idx, idx_next), dim = 1)\n",
        "\n",
        "print(decode(idx[0].tolist()))"
      ]
    },
    {
      "cell_type": "markdown",
      "metadata": {
        "id": "L7F4juwdBdcf"
      },
      "source": [
        "### Multi-Head\n",
        "\n",
        "- Key concept: Multi-head attention allows the model to jointly attend to information from different representation subspaces at different positions. With a single attention head, averaging inhibits this. Simply, it's applying multiple attentions in parallel and concatenating the results.\n",
        "\n",
        "$MultiHead(Q,K,V) = Concat(head_1, ..., head_h)W^O$,\n",
        "\n",
        "where $head_i = Attention(QW^Q_i, KW^K_i, VW^V_i)$\n"
      ]
    },
    {
      "cell_type": "code",
      "execution_count": 12,
      "metadata": {
        "id": "wQDWEKvwBc-F"
      },
      "outputs": [],
      "source": [
        "\n",
        "\n",
        "class MultiHeadAttention(nn.Module):\n",
        "  def __init__(self, num_heads, H_size, emb_dim, dropout = 0.2):\n",
        "    super().__init__()\n",
        "\n",
        "    self.heads = nn.ModuleList([Head(emb_dim = emb_dim, H_size = H_size) for _ in range(num_heads)])\n",
        "    self.proj = nn.Linear(emb_dim, emb_dim)\n",
        "    self.dropout = nn.Dropout(dropout)\n",
        "\n",
        "  def forward(self, X):\n",
        "    # h(X): size B,T,H_size\n",
        "    out = torch.cat([h(X) for h in self.heads], dim = -1) #Size : [batch_size, block_size, num_heads * H_size]\n",
        "    out = self.dropout(self.proj(out))\n",
        "    return out\n"
      ]
    },
    {
      "cell_type": "code",
      "execution_count": 13,
      "metadata": {
        "id": "y63qJaaBgG7Q"
      },
      "outputs": [],
      "source": [
        "\n",
        "class multihead_LanguageModel(nn.Module):\n",
        "\n",
        "  def __init__(self, emb_dim, num_heads):\n",
        "    super().__init__()\n",
        "    self.token_embedding = nn.Embedding(vocab_size, emb_dim)\n",
        "    self.pos_embedding = nn.Embedding(block_size, emb_dim)\n",
        "    self.multi_head = MultiHeadAttention(num_heads = num_heads, H_size = emb_dim // num_heads, emb_dim = emb_dim)\n",
        "    self.linear_head = nn.Linear(emb_dim, vocab_size)\n",
        "\n",
        "  def forward(self, idx, targets=None):\n",
        "    B,T = idx.shape\n",
        "\n",
        "    tokens = self.token_embedding(idx) # torch.size([batch_size, block_size, emb_dim])\n",
        "    pos = self.pos_embedding(torch.arange(T, device=device)) #torch.size([block_size, emb_dim])\n",
        "\n",
        "    x = tokens + pos # torch.size([batch_size, block_size, emb_dim])\n",
        "    x = self.multi_head(x) # torch.size([batch_size, block_size, H_size])\n",
        "    logits = self.linear_head(x) # torch.size([batch_size, block_Size, vocab_size])\n",
        "\n",
        "    if targets is None:\n",
        "      loss = None\n",
        "    else:\n",
        "      # B: Batch size\n",
        "      # T: Block size\n",
        "      # C: vocab_size\n",
        "      B,T,C = logits.shape\n",
        "      logits = logits.view(B*T, C) # B,T,C -> B*T,C ex) size([4,8,65]) -> size([32, 65])\n",
        "      targets = targets.view(B*T) # B,T -> B*T ex) size([4,8]) -> size([32])\n",
        "      loss = F.cross_entropy(logits, targets) # cross_entropy(size([32,65], size([32])))\n",
        "    return logits, loss\n"
      ]
    },
    {
      "cell_type": "markdown",
      "metadata": {
        "id": "fKesVu02i2Ep"
      },
      "source": [
        "### Multihead Language Model Train & Generate"
      ]
    },
    {
      "cell_type": "code",
      "execution_count": null,
      "metadata": {
        "colab": {
          "base_uri": "https://localhost:8080/",
          "height": 1000
        },
        "id": "lyt8etDui1sf",
        "outputId": "0089f61b-4461-4919-d6e7-8cc6298227a3"
      },
      "outputs": [
        {
          "name": "stdout",
          "output_type": "stream",
          "text": [
            "Epoch 0 loss: 4.201522350311279\n",
            "Epoch 1000 loss: 2.8105628490448\n",
            "Epoch 2000 loss: 2.6902754306793213\n",
            "Epoch 3000 loss: 2.591181755065918\n",
            "Epoch 4000 loss: 2.4952852725982666\n"
          ]
        },
        {
          "data": {
            "image/png": "[encoded data removed]",
            "text/plain": [
              "<Figure size 640x480 with 1 Axes>"
            ]
          },
          "metadata": {},
          "output_type": "display_data"
        },
        {
          "name": "stdout",
          "output_type": "stream",
          "text": [
            "Accuracy: 29.04296875%\n",
            "\n",
            "\n",
            " patience she with her:\n",
            "ploro s phoutgdh, inen\n",
            "Fomhe,, rend-be youpnts?\n",
            "I\n",
            "Bbur vaal the sranofl oupone ut puze hir tult iiw,\n",
            "We a'my brelldfullets! oou ouwu\n",
            "TCa athe reamid s\n",
            "Gt lowtd fhi'sd ow ald,souche an rarib?\n",
            "tre\n",
            "RBHe percfirabl.\n",
            "\n",
            "Kcicenter dis thu possufi?\n",
            "Bvekde auglt how or Moflat hu orsd opiw' dusege asouvsan iled my tis lou,\n",
            "kiw thowwate.\n",
            "Hy\n",
            "PRAD:\n",
            "GCIHEEKiREGr!\n",
            "DR::\n",
            "I thoive the tye-nise weis.\n",
            "\n",
            "Tho Aged humrote wham aratave Imegelive Ias ts.\n",
            "uydhy o I:\n",
            "TI ou I csithely isfy ee, e bas candndealicouv,\n",
            "Oant Pgellory otenth his pote uemxatrerlim, ans, ussshot the hlolow laam; atwiw hyes.\n",
            "Hescar Maw kavisthls br le\n",
            "hre,\n",
            "P I o Bn:\n",
            "At\n",
            "ODe:ot mar.\n",
            "RA Dfas Whinp dodspe gue W:\n",
            "Tow orowthan tor lour, tends ebbp watouch terely.\n",
            "\n",
            "Seergame Fids: oriromk mesaltt,\n",
            "P: he Whe, wear, nves? ouudecsas t Wibrene whe thip'pyag oy eane, s jpon:\n",
            "Mindllof, Vihe omd Wha hugud whos lom sanyou, ofut che olle;\n",
            "Anes wa at myeeves po sondd,ha itd, inos a thoctilenfe oul, oons, ry.\n",
            "RI be, ho how Pemerh, the lois\n",
            "tr:swew me\n"
          ]
        }
      ],
      "source": [
        "# Hyperparameters\n",
        "batch_size = 32\n",
        "block_size = 16\n",
        "n_epochs = 5000\n",
        "emb_dim = 32 # suggestion from github\n",
        "num_heads = 4\n",
        "\n",
        "# intialize Model, optimizer\n",
        "model = multihead_LanguageModel(emb_dim, num_heads = num_heads)\n",
        "optim = torch.optim.AdamW(model.parameters(), lr=3e-4)\n",
        "losses = []\n",
        "\n",
        "for _ in range(n_epochs):\n",
        "  X,y = batch_loader(train_data, block_size, batch_size)\n",
        "  logits, loss = model(X,y)\n",
        "\n",
        "  optim.zero_grad()\n",
        "  loss.backward()\n",
        "  optim.step()\n",
        "  losses.append(loss.item())\n",
        "\n",
        "  if _ % n_epochs % 1000 == 0:\n",
        "    print(f\"Epoch {_} loss: {loss.item()}\")\n",
        "\n",
        "plt.plot(range(n_epochs), losses, color='red')\n",
        "plt.xlabel('epochs')\n",
        "plt.ylabel('Losses')\n",
        "plt.show()\n",
        "\n",
        "\n",
        "correct = 0\n",
        "total = 0\n",
        "with torch.no_grad():\n",
        "  for _ in range(10):\n",
        "    X, y = batch_loader(test_data, T, batch_size)\n",
        "    logits, loss = model(X,y)\n",
        "    y = y.view(batch_size * T)\n",
        "    pred = F.softmax(logits, dim=-1) # by each column\n",
        "    pred = torch.max(logits,dim=-1).indices # by each column\n",
        "    correct += (pred == y).sum().item()\n",
        "    total += y.size(0)\n",
        "  print(f'Accuracy: {100 * correct / total}%')\n",
        "\n",
        "print('\\n')\n",
        "# Generating\n",
        "L = 1000\n",
        "idx = X[0]\n",
        "idx = torch.unsqueeze(idx, 0)\n",
        "\n",
        "for _ in range(L):\n",
        "  idx_cond = idx[:, -block_size:]\n",
        "  logits, loss = model(idx_cond)\n",
        "  logits = logits[:, -1, :] # last character in sequence\n",
        "  probs = F.softmax(logits, dim=-1)\n",
        "  idx_next = torch.multinomial(probs, num_samples=1)\n",
        "  idx = torch.cat((idx, idx_next), dim = 1)\n",
        "\n",
        "print(decode(idx[0].tolist()))"
      ]
    },
    {
      "cell_type": "markdown",
      "metadata": {
        "id": "E5uh2Fq8C7n7"
      },
      "source": [
        "### Feed Forward\n",
        "\n",
        "- Feed forward part is a simple MLP."
      ]
    },
    {
      "cell_type": "code",
      "execution_count": 14,
      "metadata": {
        "id": "kANA-WcP0cip"
      },
      "outputs": [],
      "source": [
        "class FeedForward(nn.Module):\n",
        "  def __init__(self, num_embd, dropout= 0.2):\n",
        "    super().__init__()\n",
        "    self.net = nn.Sequential(\n",
        "        nn.Linear(num_embd, 4 * num_embd),\n",
        "        nn.ReLU(),\n",
        "        nn.Linear(4 * num_embd, num_embd), # Projection layer\n",
        "        nn.Dropout(dropout)\n",
        "    )\n",
        "  def forward(self, X):\n",
        "    return self.net(X)\n"
      ]
    },
    {
      "cell_type": "markdown",
      "metadata": {
        "id": "fgm0AHspDNyS"
      },
      "source": [
        "### Block"
      ]
    },
    {
      "cell_type": "code",
      "execution_count": 15,
      "metadata": {
        "id": "Lk_zGFlf0oXw"
      },
      "outputs": [],
      "source": [
        "\n",
        "# class MultiHeadAttention(nn.Module):\n",
        "#   def __init__(self, num_heads, H_size, emb_dim, dropout = 0.0):\n",
        "#     super().__init__()\n",
        "\n",
        "class Block(nn.Module):\n",
        "  def __init__(self, emb_dim, num_heads):\n",
        "    super().__init__()\n",
        "    H_size = emb_dim // num_heads\n",
        "\n",
        "    self.multihead = MultiHeadAttention(num_heads = num_heads, H_size=H_size, emb_dim = emb_dim)\n",
        "    self.ff = FeedForward(emb_dim)\n",
        "    self.ln1 = nn.LayerNorm(emb_dim)\n",
        "    self.ln2 = nn.LayerNorm(emb_dim)\n",
        "\n",
        "  def forward(self, X):\n",
        "    # Residual connection\n",
        "    X = X + self.multihead(self.ln1(X))\n",
        "    X = X + self.ff(self.ln2(X))\n",
        "    return X\n",
        "\n"
      ]
    },
    {
      "cell_type": "markdown",
      "metadata": {
        "id": "7N_g26oKtMmd"
      },
      "source": [
        "# Transformer"
      ]
    },
    {
      "cell_type": "code",
      "execution_count": 16,
      "metadata": {
        "id": "ES_mpo35D1Lk"
      },
      "outputs": [],
      "source": [
        "# Simple Transformer\n",
        "class Transformer(nn.Module):\n",
        "\n",
        "  def __init__(self, emb_dim, num_heads, n_layer):\n",
        "    super().__init__()\n",
        "    self.token_embedding = nn.Embedding(vocab_size, emb_dim)\n",
        "    self.pos_embedding = nn.Embedding(block_size, emb_dim)\n",
        "\n",
        "    self.blocks = nn.Sequential(*[Block(emb_dim, num_heads) for _ in range(n_layer)])\n",
        "    self.norm = nn.LayerNorm(emb_dim)\n",
        "    self.linear_head = nn.Linear(emb_dim, vocab_size)\n",
        "\n",
        "  def forward(self, idx, targets=None):\n",
        "    B,T = idx.shape\n",
        "\n",
        "    tokens = self.token_embedding(idx) # torch.size([batch_size, block_size, emb_dim])\n",
        "    pos = self.pos_embedding(torch.arange(T, device=device)) #torch.size([block_size, emb_dim])\n",
        "\n",
        "    x = tokens + pos # torch.size([batch_size, block_size, emb_dim])\n",
        "    x = self.blocks(x) # torch.size([batch_size, block_size, H_size])\n",
        "    x = self.norm(x)\n",
        "    logits = self.linear_head(x) # torch.size([batch_size, block_Size, vocab_size])\n",
        "\n",
        "    if targets is None:\n",
        "      loss = None\n",
        "    else:\n",
        "      # B: Batch size\n",
        "      # T: Block size\n",
        "      # C: vocab_size\n",
        "      B,T,C = logits.shape\n",
        "      logits = logits.view(B*T, C) # B,T,C -> B*T,C ex) size([4,8,65]) -> size([32, 65])\n",
        "      targets = targets.view(B*T) # B,T -> B*T ex) size([4,8]) -> size([32])\n",
        "      loss = F.cross_entropy(logits, targets) # cross_entropy(size([32,65], size([32])))\n",
        "    return logits, loss\n"
      ]
    },
    {
      "cell_type": "code",
      "execution_count": 20,
      "metadata": {
        "colab": {
          "base_uri": "https://localhost:8080/"
        },
        "id": "Pl-tcuarP5BG",
        "outputId": "e806b88d-77df-40ab-b4af-2cf9e2f792ad"
      },
      "outputs": [
        {
          "name": "stdout",
          "output_type": "stream",
          "text": [
            "0\n",
            "1000\n",
            "2000\n",
            "3000\n",
            "4000\n",
            "4999\n"
          ]
        }
      ],
      "source": [
        "for _ in range(n_epochs):\n",
        "  if _ % n_epochs % 1000 == 0 or _ == n_epochs-1:\n",
        "    print(_)"
      ]
    },
    {
      "cell_type": "code",
      "execution_count": 21,
      "metadata": {
        "colab": {
          "base_uri": "https://localhost:8080/",
          "height": 1000
        },
        "id": "Dky_ZeZwn_99",
        "outputId": "26cedbdb-7bc2-4899-ce2c-4de89a1b3c70"
      },
      "outputs": [
        {
          "name": "stdout",
          "output_type": "stream",
          "text": [
            "Epoch 0 loss: 4.28328800201416\n",
            "Epoch 1000 loss: 1.675100564956665\n",
            "Epoch 2000 loss: 1.4356682300567627\n",
            "Epoch 3000 loss: 1.3243190050125122\n",
            "Epoch 4000 loss: 1.1923257112503052\n",
            "Epoch 4999 loss: 1.1533812284469604\n"
          ]
        },
        {
          "data": {
            "image/png": "[encoded data removed]",
            "text/plain": [
              "<Figure size 640x480 with 1 Axes>"
            ]
          },
          "metadata": {},
          "output_type": "display_data"
        },
        {
          "name": "stdout",
          "output_type": "stream",
          "text": [
            "Accuracy: 44.765625%\n",
            "\n",
            "\n",
            "d wherefore my love I should said,\n",
            "In hopes all my accusationary.\n",
            "Could I slip his corse to bed me as flaces\n",
            "I cannot one at, I objury to King Leord lost.\n",
            "\n",
            "DUKE VINCENTIO:\n",
            "The meplumite of putting throne my house,\n",
            "And bid us reway to be well less.\n",
            "Hadst thee already it fast a bereaty;\n",
            "And hence hath not lengthen lame his soul sight:\n",
            "An I am heard off guardfully fears,\n",
            "Drop thing neighbours, his son, mar.\n",
            "\n",
            "ANOd MOWARD:\n",
            "Whither of our fairly laws he takes his blessess'd!\n",
            "Unsay the third form the truth of guills\n",
            "And which or after we heard' front,\n",
            "And as it is fortune.\n",
            "Of what, O, you had prome adversar hither!\n",
            "This moor, I'll ream him better when my\n",
            "To breathe will fond and joys; mult not, so who,\n",
            "That I would know within a husband spirit,\n",
            "And that named the power of your sea usurping majest\n",
            "Lest him that you do a sleeper.\n",
            "\n",
            "THOMAS MOTRANSIO:\n",
            "All think\n",
            "Rememberse his blacks. Thus 'I can your sovereign\n",
            "Our states but this is King Leontes;\n",
            "He thinks the cite the nought seal that fools\n",
            "The sleepiter\n"
          ]
        }
      ],
      "source": [
        "# Hyperparameters\n",
        "batch_size = 64\n",
        "block_size = 256\n",
        "n_epochs = 5000\n",
        "emb_dim = 384\n",
        "num_heads = 6\n",
        "n_layer = 6\n",
        "device = 'cuda' if torch.cuda.is_available() else 'cpu'\n",
        "\n",
        "# intialize Model, optimizer\n",
        "model = Transformer(emb_dim, num_heads, n_layer).to(device)\n",
        "optim = torch.optim.AdamW(model.parameters(), lr=3e-4)\n",
        "losses = []\n",
        "\n",
        "for _ in range(n_epochs):\n",
        "  X,y = batch_loader(train_data, block_size, batch_size)\n",
        "  logits, loss = model(X,y)\n",
        "\n",
        "  optim.zero_grad()\n",
        "  loss.backward()\n",
        "  optim.step()\n",
        "  losses.append(loss.item())\n",
        "\n",
        "  if _ % n_epochs % 1000 == 0 or _ == n_epochs-1:\n",
        "    print(f\"Epoch {_} loss: {loss.item()}\")\n",
        "\n",
        "plt.plot(range(n_epochs), losses, color='red')\n",
        "plt.xlabel('epochs')\n",
        "plt.ylabel('Losses')\n",
        "plt.show()\n",
        "\n",
        "\n",
        "correct = 0\n",
        "total = 0\n",
        "with torch.no_grad():\n",
        "  for _ in range(10):\n",
        "    X, y = batch_loader(test_data, T, batch_size)\n",
        "    logits, loss = model(X,y)\n",
        "    y = y.view(batch_size * T)\n",
        "    pred = F.softmax(logits, dim=-1) # by each column\n",
        "    pred = torch.max(logits,dim=-1).indices # by each column\n",
        "    correct += (pred == y).sum().item()\n",
        "    total += y.size(0)\n",
        "  print(f'Accuracy: {100 * correct / total}%')\n",
        "\n",
        "print('\\n')\n",
        "# Generating\n",
        "L = 1000\n",
        "idx = X[0]\n",
        "idx = torch.unsqueeze(idx, 0)\n",
        "\n",
        "for _ in range(L):\n",
        "  idx_cond = idx[:, -block_size:]\n",
        "  logits, loss = model(idx_cond)\n",
        "  logits = logits[:, -1, :] # last character in sequence\n",
        "  probs = F.softmax(logits, dim=-1)\n",
        "  idx_next = torch.multinomial(probs, num_samples=1)\n",
        "  idx = torch.cat((idx, idx_next), dim = 1)\n",
        "\n",
        "print(decode(idx[0].tolist()))"
      ]
    },
    {
      "cell_type": "code",
      "execution_count": 22,
      "metadata": {
        "id": "yXPiJ2RUsq_v"
      },
      "outputs": [],
      "source": [
        "import pathlib\n",
        "saved_params_path = \"./saved_params_base_llm\"\n",
        "pathlib.Path(f\"./{saved_params_path}/\").mkdir(parents=True, exist_ok=True)\n",
        "torch.save(model.state_dict(), f'{saved_params_path}/base_transformer_llm.pth')\n",
        "\n",
        "generated_txt = open('generated_shakespeare.txt', 'w')\n",
        "generated_txt.write(decode(idx[0].tolist()))\n",
        "generated_txt.close()"
      ]
    },
    {
      "cell_type": "code",
      "execution_count": 25,
      "metadata": {
        "id": "96omYN8-ZLW0"
      },
      "outputs": [],
      "source": []
    },
    {
      "cell_type": "code",
      "execution_count": null,
      "metadata": {
        "id": "IRge5c6vZw4H"
      },
      "outputs": [],
      "source": []
    }
  ],
  "metadata": {
    "accelerator": "GPU",
    "colab": {
      "gpuType": "T4",
      "provenance": []
    },
    "kernelspec": {
      "display_name": "Python 3",
      "name": "python3"
    },
    "language_info": {
      "name": "python"
    }
  },
  "nbformat": 4,
  "nbformat_minor": 0
}
